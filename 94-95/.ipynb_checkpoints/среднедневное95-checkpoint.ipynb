{
 "cells": [
  {
   "cell_type": "code",
   "execution_count": 1,
   "metadata": {
    "collapsed": true
   },
   "outputs": [],
   "source": [
    "import numpy as np\n",
    "import pandas as pd\n",
    "import os.path"
   ]
  },
  {
   "cell_type": "code",
   "execution_count": 2,
   "metadata": {
    "collapsed": true
   },
   "outputs": [],
   "source": [
    "avFoF2=np.zeros(121*2).reshape(121,2)\n",
    "avFoF2[:,0]=range(1,122)\n",
    "for doy in range(1, 91):\n",
    "    sday=str(doy)\n",
    "    if (doy < 10):\n",
    "        sday='0'+sday\n",
    "    if(doy < 100):\n",
    "        sday='0'+sday\n",
    "    \n",
    "    fname=\"MP95\"+sday+\".DAT\"\n",
    "    if(os.path.isfile(fname)):\n",
    "        data=pd.read_csv(fname, sep=\"\\s+\")\n",
    "        avFoF2[30+doy,1]=data.FoF2[(data.time>=8)  & (data.time<=12)].mean()"
   ]
  },
  {
   "cell_type": "code",
   "execution_count": 3,
   "metadata": {
    "collapsed": true
   },
   "outputs": [],
   "source": [
    "for doy in range(0, 31):\n",
    "    day=doy+335\n",
    "    if (doy < 10):\n",
    "        sday='0'+sday\n",
    "    if(doy < 100):\n",
    "        sday='0'+sday\n",
    "    sday=str(day)\n",
    "\n",
    "    fname=\"MP94\"+sday+\".DAT\"\n",
    "    if(os.path.isfile(fname)):\n",
    "        data=pd.read_csv(fname, sep=\"\\s+\")\n",
    "        avFoF2[doy,1]=data.FoF2[(data.time>=8)  & (data.time<=12)].mean()"
   ]
  },
  {
   "cell_type": "code",
   "execution_count": 4,
   "metadata": {
    "collapsed": true
   },
   "outputs": [],
   "source": [
    "np.savetxt(\"AVD95dayli.DAT\",avFoF2 )"
   ]
  },
  {
   "cell_type": "code",
   "execution_count": null,
   "metadata": {
    "collapsed": true
   },
   "outputs": [],
   "source": []
  }
 ],
 "metadata": {
  "kernelspec": {
   "display_name": "Python 3",
   "language": "python",
   "name": "python3"
  },
  "language_info": {
   "codemirror_mode": {
    "name": "ipython",
    "version": 3
   },
   "file_extension": ".py",
   "mimetype": "text/x-python",
   "name": "python",
   "nbconvert_exporter": "python",
   "pygments_lexer": "ipython3",
   "version": "3.6.2"
  }
 },
 "nbformat": 4,
 "nbformat_minor": 2
}

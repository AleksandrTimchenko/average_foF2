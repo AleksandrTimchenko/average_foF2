{
 "cells": [
  {
   "cell_type": "code",
   "execution_count": 20,
   "metadata": {
    "collapsed": true
   },
   "outputs": [],
   "source": [
    "import numpy as np\n",
    "import pandas as pd\n",
    "import os.path"
   ]
  },
  {
   "cell_type": "code",
   "execution_count": 21,
   "metadata": {
    "collapsed": true
   },
   "outputs": [],
   "source": [
    "avFoF2=np.zeros(121*2).reshape(121,2) # Массив, для записи в него данных.\n",
    "avFoF2[:,0]=range(1,122)              # Заполнение первого столбца массива( номера дней)\n",
    "for doy in range(1, 91):              # Цикл высчитывающий среднее значения с января по март\n",
    "    sday=str(doy)                     # Номер дня, стринг т.к. складываются строки.\n",
    "    if (doy < 10):\n",
    "        sday='0'+sday\n",
    "    if(doy < 100):\n",
    "        sday='0'+sday\n",
    "    \n",
    "    fname=\"MP77\"+sday+\".DAT\"          # Имя файла, который читается для подсчёта среднего значения\n",
    "    if(os.path.isfile(fname)):        # Проверяет наличие файла\n",
    "        data=pd.read_csv(fname, sep=\"\\s+\")    # Читает файл\n",
    "        avFoF2[30+doy,1]=data.FoF2[(data.time>=8)  & (data.time<=12)].mean()\n",
    "        # Считает среднее дневное значение FoF2(между 8 часами и 12)"
   ]
  },
  {
   "cell_type": "code",
   "execution_count": 22,
   "metadata": {},
   "outputs": [],
   "source": [
    "# То же самое, только для декабря\n",
    "for doy in range(0, 31):\n",
    "    day=doy+336\n",
    "    if (doy < 10):\n",
    "        sday='0'+sday\n",
    "    if(doy < 100):\n",
    "        sday='0'+sday\n",
    "    sday=str(day)\n",
    "\n",
    "    fname=\"MP76\"+sday+\".DAT\"\n",
    "    if(os.path.isfile(fname)):\n",
    "        data=pd.read_csv(fname, sep=\"\\s+\")\n",
    "        #print(fname)\n",
    "        avFoF2[doy,1]=data.FoF2[(data.time>=8)  & (data.time<=12)].mean()"
   ]
  },
  {
   "cell_type": "code",
   "execution_count": 23,
   "metadata": {
    "collapsed": true
   },
   "outputs": [],
   "source": [
    "np.savetxt(\"AVD77dayli.DAT\",avFoF2 )"
   ]
  },
  {
   "cell_type": "code",
   "execution_count": null,
   "metadata": {
    "collapsed": true
   },
   "outputs": [],
   "source": []
  }
 ],
 "metadata": {
  "kernelspec": {
   "display_name": "Python 3",
   "language": "python",
   "name": "python3"
  },
  "language_info": {
   "codemirror_mode": {
    "name": "ipython",
    "version": 3
   },
   "file_extension": ".py",
   "mimetype": "text/x-python",
   "name": "python",
   "nbconvert_exporter": "python",
   "pygments_lexer": "ipython3",
   "version": "3.6.2"
  }
 },
 "nbformat": 4,
 "nbformat_minor": 2
}

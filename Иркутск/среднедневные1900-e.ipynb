{
 "cells": [
  {
   "cell_type": "code",
   "execution_count": 1,
   "metadata": {},
   "outputs": [
    {
     "name": "stdout",
     "output_type": "stream",
     "text": [
      "Populating the interactive namespace from numpy and matplotlib\n"
     ]
    }
   ],
   "source": [
    "import numpy as np\n",
    "import pandas as pd\n",
    "import os.path\n",
    "import matplotlib\n",
    "%pylab inline"
   ]
  },
  {
   "cell_type": "code",
   "execution_count": 2,
   "metadata": {
    "collapsed": true
   },
   "outputs": [],
   "source": [
    "#data = pd.read_csv(\"MP65335.DAT\", sep=\"\\s+\")"
   ]
  },
  {
   "cell_type": "code",
   "execution_count": 3,
   "metadata": {
    "collapsed": true
   },
   "outputs": [],
   "source": [
    "#data.FoF2.mean()"
   ]
  },
  {
   "cell_type": "code",
   "execution_count": 4,
   "metadata": {
    "collapsed": true
   },
   "outputs": [],
   "source": [
    "#data.FoF2.size"
   ]
  },
  {
   "cell_type": "code",
   "execution_count": 5,
   "metadata": {
    "collapsed": true
   },
   "outputs": [],
   "source": [
    "avFoF2=np.zeros(121*2).reshape(121,2)\n",
    "avFoF2[:,0]=range(1,122)\n",
    "for doy in range(1, 91):\n",
    "    sday=str(doy)\n",
    "    if (doy < 10):\n",
    "        sday='0'+sday\n",
    "    if(doy < 100):\n",
    "        sday='0'+sday\n",
    "    \n",
    "    fname=\"VZ87\"+sday+\".DAT\"\n",
    "    if(os.path.isfile(fname)):\n",
    "        data=pd.read_csv(fname, sep=\"\\s+\")\n",
    "#        avFoF2[30+doy,1]=data.FoF2.mean()\n",
    "#        if(data.FoF2.size <= 12):\n",
    "#            avFoF2[30+doy,1] = 999\n",
    "#    else:\n",
    "#        avFoF2[30+doy,1] = 666\n",
    "        avFoF2[30+doy,1]=data.f02[(data.LT>=10)  & (data.LT<=14)].mean()\n",
    "        avFoF2[30+doy,1] = avFoF2[30+doy,1]/10"
   ]
  },
  {
   "cell_type": "code",
   "execution_count": 6,
   "metadata": {},
   "outputs": [
    {
     "data": {
      "text/plain": [
       "[<matplotlib.lines.Line2D at 0x1f434cc0630>]"
      ]
     },
     "execution_count": 6,
     "metadata": {},
     "output_type": "execute_result"
    },
    {
     "data": {
      "image/png": "[encoded data removed]",
      "text/plain": [
       "<matplotlib.figure.Figure at 0x1f43792bc50>"
      ]
     },
     "metadata": {},
     "output_type": "display_data"
    }
   ],
   "source": [
    "#plot(data.LT, data.f02)"
   ]
  },
  {
   "cell_type": "code",
   "execution_count": 7,
   "metadata": {
    "collapsed": true
   },
   "outputs": [],
   "source": [
    "for doy in range(0, 31):\n",
    "    day=doy+336\n",
    "    if (doy < 10):\n",
    "        sday='0'+sday\n",
    "    if(doy < 100):\n",
    "        sday='0'+sday\n",
    "    sday=str(day)\n",
    "\n",
    "    fname=\"VZ86\"+sday+\".DAT\"\n",
    "    if(os.path.isfile(fname)):\n",
    "        data=pd.read_csv(fname, sep=\"\\s+\")\n",
    "  #      avFoF2[doy,1]=data.FoF2.mean()\n",
    "   #     if(data.FoF2.size <= 12):\n",
    "   #         avFoF2[doy,1] = 999\n",
    "   # else:\n",
    "   #     avFoF2[doy,1] = 666\n",
    "        avFoF2[doy,1]=data.f02[(data.LT>=10)  & (data.LT<=14)].mean()\n",
    "        avFoF2[doy,1] = avFoF2[doy,1]/10"
   ]
  },
  {
   "cell_type": "code",
   "execution_count": 8,
   "metadata": {
    "collapsed": true
   },
   "outputs": [],
   "source": [
    "#print(avFoF2)\n",
    "np.savetxt(\"AVD87dayli_IRK.DAT\",avFoF2 )"
   ]
  },
  {
   "cell_type": "code",
   "execution_count": null,
   "metadata": {
    "collapsed": true
   },
   "outputs": [],
   "source": []
  }
 ],
 "metadata": {
  "kernelspec": {
   "display_name": "Python 3",
   "language": "python",
   "name": "python3"
  },
  "language_info": {
   "codemirror_mode": {
    "name": "ipython",
    "version": 3
   },
   "file_extension": ".py",
   "mimetype": "text/x-python",
   "name": "python",
   "nbconvert_exporter": "python",
   "pygments_lexer": "ipython3",
   "version": "3.6.2"
  }
 },
 "nbformat": 4,
 "nbformat_minor": 2
}
